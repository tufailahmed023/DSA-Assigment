{
 "cells": [
  {
   "cell_type": "markdown",
   "id": "fd17bb60",
   "metadata": {},
   "source": [
    "\n",
    "**Q1.** Given an array of integers nums and an integer target, return indices of the two numbers such that they add up to target.\n",
    "\n",
    "You may assume that each input would have exactly one solution, and you may not use the same element twice.\n",
    "\n",
    "You can return the answer in any order.\n",
    "\n",
    "**Example:**\n",
    "Input: nums = [2,7,11,15], target = 9\n",
    "Output0 [0,1]\n",
    "\n",
    "**Explanation:** Because nums[0] + nums[1] == 9, we return [0, 1][\n",
    "\n",
    "</aside>"
   ]
  },
  {
   "cell_type": "code",
   "execution_count": 2,
   "id": "5bae61b7",
   "metadata": {},
   "outputs": [],
   "source": [
    "arr = [2,4,5,7,8]\n",
    "target = 12"
   ]
  },
  {
   "cell_type": "code",
   "execution_count": 7,
   "id": "f35008d1",
   "metadata": {},
   "outputs": [],
   "source": [
    "def two_sum_find(arr,target):\n",
    "    seen = {}\n",
    "    for i in range(len(arr)):\n",
    "        to_find = abs(arr[i] - target)\n",
    "        if to_find in seen:\n",
    "            return [seen[to_find],i]\n",
    "        else:\n",
    "            seen[arr[i]] = i\n",
    "    return 'No'"
   ]
  },
  {
   "cell_type": "code",
   "execution_count": 8,
   "id": "fbcf05ff",
   "metadata": {},
   "outputs": [
    {
     "data": {
      "text/plain": [
       "[2, 3]"
      ]
     },
     "execution_count": 8,
     "metadata": {},
     "output_type": "execute_result"
    }
   ],
   "source": [
    "two_sum_find(arr,target)"
   ]
  },
  {
   "cell_type": "markdown",
   "id": "bc3506d9",
   "metadata": {},
   "source": [
    "\n",
    " **Q2.** Given an integer array nums and an integer val, remove all occurrences of val in nums in-place. The order of the elements may be changed. Then return the number of elements in nums which are not equal to val.\n",
    "\n",
    "Consider the number of elements in nums which are not equal to val be k, to get accepted, you need to do the following things:\n",
    "\n",
    "- Change the array nums such that the first k elements of nums contain the elements which are not equal to val. The remaining elements of nums are not important as well as the size of nums.\n",
    "- Return k.\n",
    "\n",
    "**Example :**\n",
    "Input: nums = [3,2,2,3], val = 3\n",
    "Output: 2, nums = [2,2,_*,_*]\n",
    "\n",
    "**Explanation:** Your function should return k = 2, with the first two elements of nums being 2. It does not matter what you leave beyond the returned k (hence they are underscores)[\n"
   ]
  },
  {
   "cell_type": "code",
   "execution_count": 43,
   "id": "50eaab47",
   "metadata": {},
   "outputs": [],
   "source": [
    "nums = [3,2,2,3]\n",
    "val  = 3"
   ]
  },
  {
   "cell_type": "code",
   "execution_count": 44,
   "id": "1bdc1d49",
   "metadata": {},
   "outputs": [],
   "source": [
    "def num_elem(arr,val):\n",
    "    nums = sorted(arr)\n",
    "    val = val\n",
    "    i = 0\n",
    "    j = len(nums)-1\n",
    "    while i<j and i < len(nums):\n",
    "        if nums[i] == val:\n",
    "            nums[i],nums[j] = nums[j],nums[i]\n",
    "            j -= 1\n",
    "        i += 1\n",
    "    return len(nums[:j])"
   ]
  },
  {
   "cell_type": "code",
   "execution_count": 45,
   "id": "4c2aee09",
   "metadata": {},
   "outputs": [
    {
     "data": {
      "text/plain": [
       "2"
      ]
     },
     "execution_count": 45,
     "metadata": {},
     "output_type": "execute_result"
    }
   ],
   "source": [
    "num_elem(nums,val)"
   ]
  },
  {
   "cell_type": "markdown",
   "id": "a19a7c55",
   "metadata": {},
   "source": [
    "<aside>\n",
    "💡 **Q3.** Given a sorted array of distinct integers and a target value, return the index if the target is found. If not, return the index where it would be if it were inserted in order.\n",
    "\n",
    "You must write an algorithm with O(log n) runtime complexity.\n",
    "\n",
    "**Example 1:**\n",
    "Input: nums = [1,3,5,6], target = 5\n",
    "\n",
    "Output: 2\n",
    "\n",
    "</aside>"
   ]
  },
  {
   "cell_type": "code",
   "execution_count": 64,
   "id": "83b7b51d",
   "metadata": {},
   "outputs": [],
   "source": [
    "nums = [1,3,5,6]\n",
    "target = 5 "
   ]
  },
  {
   "cell_type": "code",
   "execution_count": 65,
   "id": "8d57e06e",
   "metadata": {},
   "outputs": [],
   "source": [
    "def find_tar(arr,target):\n",
    "    l = 0\n",
    "    r = len(arr) - 1\n",
    "    while l < r:\n",
    "        mid = (l+r)//2\n",
    "        if nums[mid] == target:\n",
    "            return mid \n",
    "        elif nums[mid] < target:\n",
    "            l = mid + 1\n",
    "        else:\n",
    "            r = mid \n",
    "    return l "
   ]
  },
  {
   "cell_type": "code",
   "execution_count": 66,
   "id": "37573a96",
   "metadata": {},
   "outputs": [
    {
     "data": {
      "text/plain": [
       "2"
      ]
     },
     "execution_count": 66,
     "metadata": {},
     "output_type": "execute_result"
    }
   ],
   "source": [
    "find_tar(nums,target)"
   ]
  },
  {
   "cell_type": "markdown",
   "id": "fdbeb5ad",
   "metadata": {},
   "source": [
    "<aside>\n",
    "💡 **Q4.** You are given a large integer represented as an integer array digits, where each digits[i] is the ith digit of the integer. The digits are ordered from most significant to least significant in left-to-right order. The large integer does not contain any leading 0's.\n",
    "\n",
    "Increment the large integer by one and return the resulting array of digits.\n",
    "\n",
    "**Example 1:**\n",
    "Input: digits = [1,2,3]\n",
    "Output: [1,2,4]\n",
    "\n",
    "**Explanation:** The array represents the integer 123.\n",
    "\n",
    "Incrementing by one gives 123 + 1 = 124.\n",
    "Thus, the result should be [1,2,4].\n",
    "\n",
    "</aside>"
   ]
  },
  {
   "cell_type": "code",
   "execution_count": 71,
   "id": "3e63afde",
   "metadata": {},
   "outputs": [],
   "source": [
    "def increment(arr):\n",
    "    x = ''.join(str(i) for i in arr)\n",
    "    num = int(x) + 1\n",
    "    return[int(i) for i in str(num)]"
   ]
  },
  {
   "cell_type": "code",
   "execution_count": 72,
   "id": "558be9fe",
   "metadata": {},
   "outputs": [
    {
     "data": {
      "text/plain": [
       "[1, 2, 4]"
      ]
     },
     "execution_count": 72,
     "metadata": {},
     "output_type": "execute_result"
    }
   ],
   "source": [
    "increment([1,2,3])"
   ]
  },
  {
   "cell_type": "markdown",
   "id": "6dc0b739",
   "metadata": {},
   "source": [
    "<aside>\n",
    "💡 **Q5.** You are given two integer arrays nums1 and nums2, sorted in non-decreasing order, and two integers m and n, representing the number of elements in nums1 and nums2 respectively.\n",
    "\n",
    "Merge nums1 and nums2 into a single array sorted in non-decreasing order.\n",
    "\n",
    "The final sorted array should not be returned by the function, but instead be stored inside the array nums1. To accommodate this, nums1 has a length of m + n, where the first m elements denote the elements that should be merged, and the last n elements are set to 0 and should be ignored. nums2 has a length of n.\n",
    "\n",
    "**Example 1:**\n",
    "Input: nums1 = [1,2,3,0,0,0], m = 3, nums2 = [2,5,6], n = 3\n",
    "Output: [1,2,2,3,5,6]\n",
    "\n",
    "**Explanation:** The arrays we are merging are [1,2,3] and [2,5,6].\n",
    "The result of the merge is [1,2,2,3,5,6] with the underlined elements coming from nums1.\n",
    "\n",
    "</aside>"
   ]
  },
  {
   "cell_type": "code",
   "execution_count": 5,
   "id": "9563d896",
   "metadata": {},
   "outputs": [],
   "source": [
    "nums1 = [1,2,3,0,0,0]\n",
    "nums2 = [2,5,6]\n"
   ]
  },
  {
   "cell_type": "code",
   "execution_count": 6,
   "id": "e17f35be",
   "metadata": {},
   "outputs": [],
   "source": [
    "def merge(nums1, m, nums2, n):\n",
    "    p1 = m - 1 #2\n",
    "    p2 = n - 1 # 2\n",
    "    p = m + n - 1 # 5\n",
    "    \n",
    "    while p1 >= 0 and p2 >= 0:\n",
    "        if nums1[p1] >= nums2[p2]:\n",
    "            nums1[p] = nums1[p1]\n",
    "            p1 -= 1\n",
    "        else:\n",
    "            nums1[p] = nums2[p2]\n",
    "            p2 -= 1\n",
    "        p -= 1\n",
    "    \n",
    "    while p2 >= 0:\n",
    "        nums1[p] = nums2[p2]\n",
    "        p2 -= 1\n",
    "        p -= 1\n",
    "\n",
    "        "
   ]
  },
  {
   "cell_type": "code",
   "execution_count": 7,
   "id": "29d67802",
   "metadata": {},
   "outputs": [],
   "source": [
    "merge(nums1,3,nums2,3)"
   ]
  },
  {
   "cell_type": "code",
   "execution_count": 8,
   "id": "374e3a7e",
   "metadata": {},
   "outputs": [
    {
     "data": {
      "text/plain": [
       "[1, 2, 2, 3, 5, 6]"
      ]
     },
     "execution_count": 8,
     "metadata": {},
     "output_type": "execute_result"
    }
   ],
   "source": [
    "nums1"
   ]
  },
  {
   "cell_type": "code",
   "execution_count": null,
   "id": "a4b34f08",
   "metadata": {},
   "outputs": [],
   "source": []
  },
  {
   "cell_type": "code",
   "execution_count": null,
   "id": "873a170b",
   "metadata": {},
   "outputs": [],
   "source": []
  },
  {
   "cell_type": "markdown",
   "id": "5811192f",
   "metadata": {},
   "source": [
    "<aside>\n",
    "💡 **Q6.** Given an integer array nums, return true if any value appears at least twice in the array, and return false if every element is distinct.\n",
    "\n",
    "**Example 1:**\n",
    "Input: nums = [1,2,3,1]\n",
    "\n",
    "Output: true\n",
    "\n",
    "</aside>"
   ]
  },
  {
   "cell_type": "code",
   "execution_count": 73,
   "id": "2baf2e0f",
   "metadata": {},
   "outputs": [],
   "source": [
    "def least_twice(arr):\n",
    "    hashmap = {}\n",
    "    for i in arr:\n",
    "        if i in hashmap:\n",
    "            return \"True\"\n",
    "        else:\n",
    "            hashmap[i] = 1\n",
    "    return 'False'"
   ]
  },
  {
   "cell_type": "code",
   "execution_count": 74,
   "id": "3225ee35",
   "metadata": {},
   "outputs": [
    {
     "data": {
      "text/plain": [
       "'True'"
      ]
     },
     "execution_count": 74,
     "metadata": {},
     "output_type": "execute_result"
    }
   ],
   "source": [
    "least_twice([1,2,3,1])"
   ]
  },
  {
   "cell_type": "markdown",
   "id": "726749f4",
   "metadata": {},
   "source": [
    "<aside>\n",
    "💡 **Q7.** Given an integer array nums, move all 0's to the end of it while maintaining the relative order of the nonzero elements.\n",
    "\n",
    "Note that you must do this in-place without making a copy of the array.\n",
    "\n",
    "**Example 1:**\n",
    "Input: nums = [0,1,0,3,12]\n",
    "Output: [1,3,12,0,0]\n",
    "\n",
    "</aside>"
   ]
  },
  {
   "cell_type": "code",
   "execution_count": 84,
   "id": "a9552188",
   "metadata": {},
   "outputs": [],
   "source": [
    "nums = [0,1,0,3,12] "
   ]
  },
  {
   "cell_type": "code",
   "execution_count": 85,
   "id": "caacfd19",
   "metadata": {},
   "outputs": [],
   "source": [
    "i = 0\n",
    "j = 1\n",
    "while j < len(nums):\n",
    "    if nums[i] == 0 and nums[j] == 0:\n",
    "        j += 1\n",
    "    elif nums[i] == 0 or nums[j] == 0:\n",
    "        nums[i],nums[j] = nums[j],nums[i]\n",
    "        j += 1\n",
    "        i += 1\n",
    "    "
   ]
  },
  {
   "cell_type": "code",
   "execution_count": 86,
   "id": "21f1e2e1",
   "metadata": {},
   "outputs": [
    {
     "data": {
      "text/plain": [
       "[1, 3, 12, 0, 0]"
      ]
     },
     "execution_count": 86,
     "metadata": {},
     "output_type": "execute_result"
    }
   ],
   "source": [
    "nums"
   ]
  },
  {
   "cell_type": "markdown",
   "id": "573bcdf6",
   "metadata": {},
   "source": [
    "<aside>\n",
    "💡 **Q8.** You have a set of integers s, which originally contains all the numbers from 1 to n. Unfortunately, due to some error, one of the numbers in s got duplicated to another number in the set, which results in repetition of one number and loss of another number.\n",
    "\n",
    "You are given an integer array nums representing the data status of this set after the error.\n",
    "\n",
    "Find the number that occurs twice and the number that is missing and return them in the form of an array.\n",
    "\n",
    "**Example 1:**\n",
    "Input: nums = [1,2,2,4]\n",
    "Output: [2,3]\n",
    "\n",
    "</aside>"
   ]
  },
  {
   "cell_type": "code",
   "execution_count": 102,
   "id": "2ba517ae",
   "metadata": {},
   "outputs": [],
   "source": [
    "nums = [1,2,2,4]\n",
    "result = []\n"
   ]
  },
  {
   "cell_type": "code",
   "execution_count": 103,
   "id": "db319dd7",
   "metadata": {},
   "outputs": [],
   "source": [
    "j = 1\n",
    "for i in range(len(nums)):\n",
    "    if j < len(nums) and nums[i] == nums[j]:\n",
    "        result.append([nums[j],nums[j]+1])\n",
    "    j += 1\n",
    "    "
   ]
  },
  {
   "cell_type": "code",
   "execution_count": 104,
   "id": "2c04e27c",
   "metadata": {},
   "outputs": [
    {
     "data": {
      "text/plain": [
       "[[2, 3]]"
      ]
     },
     "execution_count": 104,
     "metadata": {},
     "output_type": "execute_result"
    }
   ],
   "source": [
    "result"
   ]
  }
 ],
 "metadata": {
  "kernelspec": {
   "display_name": "Python 3 (ipykernel)",
   "language": "python",
   "name": "python3"
  },
  "language_info": {
   "codemirror_mode": {
    "name": "ipython",
    "version": 3
   },
   "file_extension": ".py",
   "mimetype": "text/x-python",
   "name": "python",
   "nbconvert_exporter": "python",
   "pygments_lexer": "ipython3",
   "version": "3.10.5"
  }
 },
 "nbformat": 4,
 "nbformat_minor": 5
}
