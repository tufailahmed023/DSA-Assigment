{
 "cells": [
  {
   "cell_type": "markdown",
   "id": "f45d1ce8",
   "metadata": {},
   "source": [
    "**Question 1**<br>\n",
    "Given an integer array nums of 2n integers, group these integers into n pairs (a1, b1), (a2, b2),..., (an, bn) such that the sum of min(ai, bi) for all i is maximized. Return the maximized sum.\n",
    "\n",
    "Example 1:\n",
    "Input: nums = [1,4,3,2]\n",
    "Output: 4\n"
   ]
  },
  {
   "cell_type": "code",
   "execution_count": 1,
   "id": "ebc6313c",
   "metadata": {},
   "outputs": [],
   "source": [
    "nums = [1,4,3,2]"
   ]
  },
  {
   "cell_type": "code",
   "execution_count": 4,
   "id": "f0431772",
   "metadata": {},
   "outputs": [],
   "source": [
    "def arrysum(nums):\n",
    "    #sort it\n",
    "    nums.sort()\n",
    "    #iterate over every second element \n",
    "    max_sum = 0\n",
    "    for i in range(0,len(nums),2):\n",
    "        max_sum += nums[i]\n",
    "    return max_sum"
   ]
  },
  {
   "cell_type": "code",
   "execution_count": 5,
   "id": "006bbf6f",
   "metadata": {},
   "outputs": [
    {
     "data": {
      "text/plain": [
       "4"
      ]
     },
     "execution_count": 5,
     "metadata": {},
     "output_type": "execute_result"
    }
   ],
   "source": [
    "arrysum(nums)"
   ]
  },
  {
   "cell_type": "markdown",
   "id": "710ad02f",
   "metadata": {},
   "source": [
    "**Question 2** <br>\n",
    "Alice has n candies, where the ith candy is of type candyType[i]. Alice noticed that she started to gain weight, so she visited a doctor. \n",
    "\n",
    "The doctor advised Alice to only eat n / 2 of the candies she has (n is always even). Alice likes her candies very much, and she wants to eat the maximum number of different types of candies while still following the doctor's advice. \n",
    "\n",
    "Given the integer array candyType of length n, return the maximum number of different types of candies she can eat if she only eats n / 2 of them.\n",
    "\n",
    "Example 1:\n",
    "Input: candyType = [1,1,2,2,3,3]\n",
    "Output: 3\n",
    "\n",
    "Explanation: Alice can only eat 6 / 2 = 3 candies. Since there are only 3 types, she can eat one of each type."
   ]
  },
  {
   "cell_type": "code",
   "execution_count": 6,
   "id": "7a937c61",
   "metadata": {},
   "outputs": [],
   "source": [
    "candyType = [1,1,2,2,3,3]"
   ]
  },
  {
   "cell_type": "code",
   "execution_count": 16,
   "id": "d41eba45",
   "metadata": {},
   "outputs": [],
   "source": [
    "def maxcandy(candyType):\n",
    "    unique_candey =set(candyType)\n",
    "    return min(len(unique_candey),len(candyType)//2)"
   ]
  },
  {
   "cell_type": "code",
   "execution_count": 17,
   "id": "391f24cc",
   "metadata": {},
   "outputs": [
    {
     "data": {
      "text/plain": [
       "3"
      ]
     },
     "execution_count": 17,
     "metadata": {},
     "output_type": "execute_result"
    }
   ],
   "source": [
    "maxcandy(candyType)"
   ]
  },
  {
   "cell_type": "markdown",
   "id": "fac9963d",
   "metadata": {},
   "source": [
    "**Question 3** <br>\n",
    "We define a harmonious array as an array where the difference between its maximum value\n",
    "and its minimum value is exactly 1.\n",
    "\n",
    "Given an integer array nums, return the length of its longest harmonious subsequence\n",
    "among all its possible subsequences.\n",
    "\n",
    "A subsequence of an array is a sequence that can be derived from the array by deleting some or no elements without changing the order of the remaining elements.\n",
    "\n",
    "Example 1:\n",
    "Input: nums = [1,3,2,2,5,2,3,7]\n",
    "Output: 5\n",
    "\n",
    "Explanation: The longest harmonious subsequence is [3,2,2,2,3]."
   ]
  },
  {
   "cell_type": "code",
   "execution_count": 31,
   "id": "aa1e0a25",
   "metadata": {},
   "outputs": [],
   "source": [
    "from collections import defaultdict\n",
    "\n",
    "def findLHS(nums):\n",
    "    numFreq = defaultdict(int)\n",
    "\n",
    "    # Count the frequency of each number in the array\n",
    "    for num in nums:\n",
    "        numFreq[num] += 1\n",
    "\n",
    "    maxLen = 0\n",
    "\n",
    "    # Iterate over the numbers and check for harmonious subsequences\n",
    "    for num in numFreq:\n",
    "        if num + 1 in numFreq:\n",
    "            length = numFreq[num] + numFreq[num + 1]\n",
    "            maxLen = max(maxLen, length)\n",
    "\n",
    "    return maxLen"
   ]
  },
  {
   "cell_type": "code",
   "execution_count": 32,
   "id": "c51e8e0f",
   "metadata": {},
   "outputs": [
    {
     "data": {
      "text/plain": [
       "5"
      ]
     },
     "execution_count": 32,
     "metadata": {},
     "output_type": "execute_result"
    }
   ],
   "source": [
    "findLHS([1,3,2,2,5,2,3,7])"
   ]
  },
  {
   "cell_type": "markdown",
   "id": "957b7fb5",
   "metadata": {},
   "source": [
    "**Question 4** <br>\n",
    "You have a long flowerbed in which some of the plots are planted, and some are not.\n",
    "However, flowers cannot be planted in adjacent plots.\n",
    "Given an integer array flowerbed containing 0's and 1's, where 0 means empty and 1 means not empty, and an integer n, return true if n new flowers can be planted in the flowerbed without violating the no-adjacent-flowers rule and false otherwise.\n",
    "\n",
    "Example 1:\n",
    "Input: flowerbed = [1,0,0,0,1], n = 1\n",
    "Output: true"
   ]
  },
  {
   "cell_type": "code",
   "execution_count": null,
   "id": "2edf4017",
   "metadata": {},
   "outputs": [],
   "source": []
  },
  {
   "cell_type": "code",
   "execution_count": null,
   "id": "10d61dac",
   "metadata": {},
   "outputs": [],
   "source": []
  },
  {
   "cell_type": "code",
   "execution_count": null,
   "id": "71c08099",
   "metadata": {},
   "outputs": [],
   "source": []
  },
  {
   "cell_type": "markdown",
   "id": "4b35b7ff",
   "metadata": {},
   "source": [
    "**Question 5**\n",
    "Given an integer array nums, find three numbers whose product is maximum and return the maximum product.\n",
    "\n",
    "Example 1:\n",
    "Input: nums = [1,2,3]\n",
    "Output: 6"
   ]
  },
  {
   "cell_type": "code",
   "execution_count": 18,
   "id": "58336534",
   "metadata": {},
   "outputs": [],
   "source": [
    "nums = [1,2,3]"
   ]
  },
  {
   "cell_type": "code",
   "execution_count": 19,
   "id": "263ef20a",
   "metadata": {},
   "outputs": [],
   "source": [
    "def maxproduct(nums):\n",
    "    nums.sort()\n",
    "    return nums[-1] * nums[-2]"
   ]
  },
  {
   "cell_type": "code",
   "execution_count": 20,
   "id": "5f0ef276",
   "metadata": {},
   "outputs": [
    {
     "data": {
      "text/plain": [
       "6"
      ]
     },
     "execution_count": 20,
     "metadata": {},
     "output_type": "execute_result"
    }
   ],
   "source": [
    "maxproduct(nums)"
   ]
  },
  {
   "cell_type": "markdown",
   "id": "aeb051a2",
   "metadata": {},
   "source": [
    "**Question 6** <br>\n",
    "Given an array of integers nums which is sorted in ascending order, and an integer target,\n",
    "write a function to search target in nums. If target exists, then return its index. Otherwise,\n",
    "return -1.\n",
    "\n",
    "You must write an algorithm with O(log n) runtime complexity.\n",
    "\n",
    "Input: nums = [-1,0,3,5,9,12], target = 9\n",
    "Output: 4\n",
    "\n",
    "Explanation: 9 exists in nums and its index is 4"
   ]
  },
  {
   "cell_type": "code",
   "execution_count": 21,
   "id": "8dba819a",
   "metadata": {},
   "outputs": [],
   "source": [
    "nums = [-1,0,3,5,9,12]\n",
    "target = 9"
   ]
  },
  {
   "cell_type": "code",
   "execution_count": 27,
   "id": "e20ef91e",
   "metadata": {},
   "outputs": [],
   "source": [
    "def serch_target(nums,target):\n",
    "    l = 0\n",
    "    r = len(nums)-1\n",
    "    while l < r:\n",
    "        mid = (l+r)//2\n",
    "        if nums[mid] == target:\n",
    "            return mid \n",
    "        \n",
    "        if nums[mid] < target:\n",
    "            l = mid + 1\n",
    "        else:\n",
    "            r = mid \n",
    "    return -1 "
   ]
  },
  {
   "cell_type": "code",
   "execution_count": 28,
   "id": "0338aaaa",
   "metadata": {},
   "outputs": [
    {
     "data": {
      "text/plain": [
       "4"
      ]
     },
     "execution_count": 28,
     "metadata": {},
     "output_type": "execute_result"
    }
   ],
   "source": [
    "serch_target(nums,target)"
   ]
  },
  {
   "cell_type": "markdown",
   "id": "9098f830",
   "metadata": {},
   "source": [
    "**Question 7** <br>\n",
    "An array is monotonic if it is either monotone increasing or monotone decreasing.\n",
    "\n",
    "An array nums is monotone increasing if for all i <= j, nums[i] <= nums[j]. An array nums is\n",
    "monotone decreasing if for all i <= j, nums[i] >= nums[j].\n",
    "\n",
    "Given an integer array nums, return true if the given array is monotonic, or false otherwise.\n",
    "\n",
    "Example 1:\n",
    "Input: nums = [1,2,2,3]\n",
    "Output: true\n"
   ]
  },
  {
   "cell_type": "code",
   "execution_count": 29,
   "id": "b8571482",
   "metadata": {},
   "outputs": [],
   "source": [
    "def isMonotonic(nums):\n",
    "    isIncreasing = True\n",
    "    isDecreasing = True\n",
    "\n",
    "    for i in range(1, len(nums)):\n",
    "        if nums[i] < nums[i - 1]:\n",
    "            isIncreasing = False\n",
    "        if nums[i] > nums[i - 1]:\n",
    "            isDecreasing = False\n",
    "\n",
    "    return isIncreasing or isDecreasing"
   ]
  },
  {
   "cell_type": "code",
   "execution_count": 30,
   "id": "0a91b841",
   "metadata": {},
   "outputs": [
    {
     "data": {
      "text/plain": [
       "True"
      ]
     },
     "execution_count": 30,
     "metadata": {},
     "output_type": "execute_result"
    }
   ],
   "source": [
    "isMonotonic(nums)"
   ]
  },
  {
   "cell_type": "markdown",
   "id": "8715f1a7",
   "metadata": {},
   "source": [
    "**Question 8** <br>\n",
    "You are given an integer array nums and an integer k.\n",
    "\n",
    "In one operation, you can choose any index i where 0 <= i < nums.length and change nums[i] to nums[i] + x where x is an integer from the range [-k, k]. You can apply this operation at most once for each index i.\n",
    "\n",
    "The score of nums is the difference between the maximum and minimum elements in nums.\n",
    "\n",
    "Return the minimum score of nums after applying the mentioned operation at most once for each index in it.\n",
    "\n",
    "Example 1:\n",
    "Input: nums = [1], k = 0\n",
    "Output: 0\n",
    "\n",
    "Explanation: The score is max(nums) - min(nums) = 1 - 1 = 0."
   ]
  },
  {
   "cell_type": "code",
   "execution_count": null,
   "id": "78fbf315",
   "metadata": {},
   "outputs": [],
   "source": []
  },
  {
   "cell_type": "code",
   "execution_count": null,
   "id": "2c9d5390",
   "metadata": {},
   "outputs": [],
   "source": []
  },
  {
   "cell_type": "code",
   "execution_count": null,
   "id": "576f9f19",
   "metadata": {},
   "outputs": [],
   "source": []
  },
  {
   "cell_type": "code",
   "execution_count": null,
   "id": "0b60adbe",
   "metadata": {},
   "outputs": [],
   "source": []
  }
 ],
 "metadata": {
  "kernelspec": {
   "display_name": "Python 3 (ipykernel)",
   "language": "python",
   "name": "python3"
  },
  "language_info": {
   "codemirror_mode": {
    "name": "ipython",
    "version": 3
   },
   "file_extension": ".py",
   "mimetype": "text/x-python",
   "name": "python",
   "nbconvert_exporter": "python",
   "pygments_lexer": "ipython3",
   "version": "3.10.5"
  }
 },
 "nbformat": 4,
 "nbformat_minor": 5
}
